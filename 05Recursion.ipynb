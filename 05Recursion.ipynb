{
 "cells": [
  {
   "cell_type": "markdown",
   "metadata": {},
   "source": [
    "## 1. 递归\n",
    "\n",
    "下面代码的具体过程见：\n",
    "\n",
    "<iframe width=\"800\" height=\"500\" frameborder=\"0\" src=\"https://pythontutor.com/iframe-embed.html#code=def%20sum_digits%28n%29%3A%0A%20%20%20%20%22%22%22Return%20the%20sum%20of%20the%20digits%20of%20positive%20integers%22%22%22%0A%20%20%20%20if%20n%20%3C%2010%3A%20%23%20base%20case,%20when%20n%20is%20a%20single%20digit%0A%20%20%20%20%20%20%20%20return%20n%20%23%20sum%20of%20digits%20is%20the%20number%20itself%0A%20%20%20%20else%3A%0A%20%20%20%20%20%20%20%20%23%20%E5%85%83%E7%BB%84%E8%B5%8B%E5%80%BC%EF%BC%88tuple%20unpacking%EF%BC%89%0A%20%20%20%20%20%20%20%20%23%20all_but_last,%20last%20%3D%20n%20//%2010,%20n%20%25%2010%0A%20%20%20%20%20%20%20%20%0A%20%20%20%20%20%20%20%20all_but_last%20%3D%20n%20//%2010%20%20%23%20202%0A%20%20%20%20%20%20%20%20last%20%3D%20n%20%25%2010%20%23%204%0A%20%20%20%20%20%20%20%20return%20sum_digits%28all_but_last%29%20%2B%20last%0A%0Asum_digits%282024%29%0A&codeDivHeight=400&codeDivWidth=350&cumulative=true&curInstr=0&origin=composingprograms.js&py=3&rawInputLstJSON=%5B%5D\"> </iframe>\n",
    "\n",
    "本地测试结果见下文："
   ]
  },
  {
   "cell_type": "code",
   "execution_count": 14,
   "metadata": {},
   "outputs": [
    {
     "data": {
      "text/plain": [
       "8"
      ]
     },
     "execution_count": 14,
     "metadata": {},
     "output_type": "execute_result"
    }
   ],
   "source": [
    "def sum_digits(n):\n",
    "    \"\"\"Return the sum of the digits of positive integers\"\"\"\n",
    "    if n < 10: # base case, when n is a single digit\n",
    "        return n # sum of digits is the number itself\n",
    "    else:\n",
    "        # 元组赋值（tuple unpacking）\n",
    "        # all_but_last, last = n // 10, n % 10\n",
    "        \n",
    "        all_but_last = n // 10  # 202\n",
    "        last = n % 10 # 4\n",
    "        return sum_digits(all_but_last) + last\n",
    "\n",
    "sum_digits(2024)"
   ]
  },
  {
   "cell_type": "markdown",
   "metadata": {},
   "source": [
    "`f4`步骤已经理解，后续步骤不理解 ⬇️\n",
    "\n",
    "**上述代码最后的`return`没有明白！--2024-02-18**"
   ]
  },
  {
   "cell_type": "markdown",
   "metadata": {},
   "source": [
    "该代码可以用于计算任意正整数的各位数字之和。该代码的应用场景包括：\n",
    "\n",
    "计算字符串的校验和\n",
    "计算数字的各位数字之和\n",
    "将数字转换为其他进制\n",
    "以下是该代码的一些示例用法：\n",
    "\n"
   ]
  },
  {
   "cell_type": "markdown",
   "metadata": {},
   "source": [
    "该代码可以用于 **计算任意正整数的各位数字之和** 。该代码的应用场景包括：\n",
    "\n",
    "- 计算字符串的校验和\n",
    "- 计算数字的各位数字之和\n",
    "\n",
    "以下是该代码的一些示例用法：\n",
    "\n"
   ]
  },
  {
   "cell_type": "code",
   "execution_count": 16,
   "metadata": {},
   "outputs": [
    {
     "name": "stdout",
     "output_type": "stream",
     "text": [
      "6\n"
     ]
    }
   ],
   "source": [
    "# 计算字符串 \"123\" 的校验和\n",
    "checksum = sum_digits(ord(\"1\") + ord(\"2\") + ord(\"3\"))\n",
    "print(checksum)  # 输出：6\n",
    "\n",
    "# ord() 求 ASCII 的函数"
   ]
  },
  {
   "cell_type": "code",
   "execution_count": 5,
   "metadata": {},
   "outputs": [
    {
     "name": "stdout",
     "output_type": "stream",
     "text": [
      "150\n",
      "49 50 51\n"
     ]
    }
   ],
   "source": [
    "print(ord(\"1\")+ord(\"2\")+ord(\"3\"))\n",
    "print(ord(\"1\"),ord(\"2\"),ord(\"3\"))\n"
   ]
  }
 ],
 "metadata": {
  "kernelspec": {
   "display_name": "Python 3",
   "language": "python",
   "name": "python3"
  },
  "language_info": {
   "codemirror_mode": {
    "name": "ipython",
    "version": 3
   },
   "file_extension": ".py",
   "mimetype": "text/x-python",
   "name": "python",
   "nbconvert_exporter": "python",
   "pygments_lexer": "ipython3",
   "version": "3.11.7"
  }
 },
 "nbformat": 4,
 "nbformat_minor": 2
}
