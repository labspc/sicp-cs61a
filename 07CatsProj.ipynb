{
 "cells": [
  {
   "cell_type": "markdown",
   "metadata": {},
   "source": [
    "**感悟：在这个项目中，突然有一种感受，就是Python的标准库真的很丰富，很多东西标准库里都有，拿来用就行。这很大程度上，便利了开发者。这种标准库的丰富程度，是我以往所没有遇到的。** \n",
    "\n",
    "2024-02-19 17:31"
   ]
  },
  {
   "cell_type": "markdown",
   "metadata": {},
   "source": [
    "## 1. Cats 项目包简介\n",
    "\n",
    "https://cs61a.org/proj/cats/\n",
    "\n",
    "`cats.py`里面是Typing的主要逻辑\n",
    "\n",
    "看了一下`cats`项目，还是有一些些复杂，考虑之后，为了实现类似`cats`项目的效果，使用了`cats`项目的`sample_paragraphs.txt`文件，然后直接在命令行实现，打字测试程序。\n",
    "\n",
    "单文件运行代码见：`typingimp.py`"
   ]
  },
  {
   "cell_type": "code",
   "execution_count": 1,
   "metadata": {},
   "outputs": [
    {
     "name": "stdout",
     "output_type": "stream",
     "text": [
      "\n",
      "主题: CAT\n",
      "Coming into the market in the early 1880s, the index typewriter uses a pointer or stylus to choose a letter from an index.\n",
      "\n",
      "\n",
      "准确率: 100.00%\n",
      "每分钟字数: 27.08\n"
     ]
    }
   ],
   "source": [
    "import random\n",
    "import string\n",
    "from datetime import datetime\n",
    "\n",
    "\n",
    "def pick_paragraph_from_file(file_path):\n",
    "    \"\"\"\n",
    "    从文件中随机选择一个段落。\n",
    "\n",
    "    参数:\n",
    "      file_path: 文件路径\n",
    "\n",
    "    返回:\n",
    "      一个随机选择的段落字符串\n",
    "    \"\"\"\n",
    "    with open('sample_paragraphs.txt', 'r') as file:\n",
    "        paragraphs = file.readlines()\n",
    "    return random.choice(paragraphs)\n",
    "\n",
    "\n",
    "def generate_random_paragraph():\n",
    "    \"\"\"\n",
    "    生成一个随机段落。\n",
    "\n",
    "    返回:\n",
    "      一个随机生成的段落字符串\n",
    "    \"\"\"\n",
    "    paragraph = ' '.join(''.join(random.choices(string.ascii_letters + string.punctuation, k=random.randint(5, 15)))\n",
    "                         for _ in range(random.randint(3, 5)))\n",
    "    return paragraph\n",
    "\n",
    "\n",
    "def calculate_accuracy(typed, source):\n",
    "    \"\"\"\n",
    "    计算打字准确率。\n",
    "\n",
    "    参数:\n",
    "      typed: 输入的文本\n",
    "      source: 原始文本\n",
    "\n",
    "    返回:\n",
    "      准确率百分比\n",
    "    \"\"\"\n",
    "    typed_words = typed.split() #按照空格分割\n",
    "    source_words = source.split()\n",
    "    correct_words = sum(1 for tw, sw in zip(typed_words, source_words) if tw.lower() == sw.lower())\n",
    "    return round(correct_words / len(source_words) * 100, 2)\n",
    "\n",
    "\n",
    "def calculate_wpm(typed, elapsed_time):\n",
    "    \"\"\"\n",
    "    计算打字速度 (每分钟字数)。\n",
    "\n",
    "    参数:\n",
    "      typed: 输入的文本\n",
    "      elapsed_time: 花费的时间 (秒)\n",
    "\n",
    "    返回:\n",
    "      每分钟字数\n",
    "    \"\"\"\n",
    "    return round(len(typed.split()) / elapsed_time * 60, 2)\n",
    "\n",
    "\n",
    "def run_test(topic):\n",
    "    \"\"\"\n",
    "    运行打字测试。\n",
    "\n",
    "    参数:\n",
    "      topic: 主题单词\n",
    "    \"\"\"\n",
    "    try:\n",
    "        paragraph = pick_paragraph_from_file(\"paragraphs.txt\")\n",
    "    except FileNotFoundError:\n",
    "        print(\"段落文件未找到。\")\n",
    "        return\n",
    "\n",
    "    print(f\"\\n主题: {topic.upper()}\")\n",
    "    print(paragraph)\n",
    "    start_time = datetime.now()\n",
    "    typed_text = input(\"\\n请键入以上段落并按回车键: \")\n",
    "    end_time = datetime.now()\n",
    "    elapsed_time = (end_time - start_time).total_seconds()\n",
    "    accuracy = calculate_accuracy(typed_text, paragraph)\n",
    "    wpm = calculate_wpm(typed_text, elapsed_time)\n",
    "    print(f\"\\n准确率: {accuracy:.2f}%\")\n",
    "    print(f\"每分钟字数: {wpm:.2f}\")\n",
    "\n",
    "\n",
    "if __name__ == \"__main__\":\n",
    "    topic = input(\"请输入一个主题单词: \")\n",
    "    run_test(topic)\n"
   ]
  },
  {
   "cell_type": "markdown",
   "metadata": {},
   "source": [
    "## 2. 代码解释\n",
    "\n"
   ]
  },
  {
   "cell_type": "code",
   "execution_count": null,
   "metadata": {},
   "outputs": [],
   "source": [
    "# Part1：使用 with 语句打开文件\n",
    "# 使用 with 语句打开文件\n",
    "with open('example.txt', 'r') as file:\n",
    "    # 在 with 代码块中，可以通过 file 来访问文件对象\n",
    "    contents = file.read()\n",
    "    print(contents)\n",
    "\n",
    "# 文件已经在 with 代码块结束后自动关闭，无需显式调用 file.close()\n"
   ]
  },
  {
   "cell_type": "code",
   "execution_count": null,
   "metadata": {},
   "outputs": [],
   "source": [
    "paragraph = ' '.join(''.join(random.choices(string.ascii_letters + string.punctuation, k=random.randint(5, 15)))\n",
    "                         for _ in range(random.randint(3, 5)))\n"
   ]
  },
  {
   "cell_type": "markdown",
   "metadata": {},
   "source": [
    "上述代码片段的注解如下，使用了很多平时我不使用的库和函数，所以可能看起来比较奇怪。\n",
    "\n",
    "random.randint(3, 5): 这个表达式调用 random 模块中的 randint() 函数，它返回一个指定范围内的随机整数，包括 3 和 5。  random.randint(5, 15)\n",
    "\n",
    "random.choices(string.ascii_letters + string.punctuation, k=random.randint(5, 15)): 这个表达式调用 random 模块中的 choices() 函数，它从给定的序列中随机选择 k 个元素。 random.choice(paragraphs)\n",
    "\n"
   ]
  },
  {
   "cell_type": "code",
   "execution_count": 4,
   "metadata": {},
   "outputs": [
    {
     "name": "stdout",
     "output_type": "stream",
     "text": [
      "blue\n",
      "apple\n",
      "t\n"
     ]
    }
   ],
   "source": [
    "#random.choice(sequence) 非空序列\n",
    "\n",
    "import random\n",
    "\n",
    "# 从列表中随机选择一个元素\n",
    "colors = ['red', 'green', 'blue', 'yellow']\n",
    "print(random.choice(colors))\n",
    "\n",
    "# 从元组中随机选择一个元素\n",
    "fruits = ('apple', 'banana', 'orange', 'grape')\n",
    "print(random.choice(fruits))\n",
    "\n",
    "# 从字符串中随机选择一个字符\n",
    "word = 'Python'\n",
    "print(random.choice(word))\n",
    "\n"
   ]
  },
  {
   "cell_type": "markdown",
   "metadata": {},
   "source": [
    "string.ascii_letters 和 string.punctuation 是 Python 标准库中 string 模块提供的两个常量，它们分别表示了字母和标点符号的序列。\n",
    "\n",
    "在这里，string.ascii_letters + string.punctuation 是一个包含所有字母和标点符号的序列，k 的值是在 5 和 15 之间随机选择的整数。因此，这个表达式返回一个由随机字母和标点符号组成的长度在 5 到 15 之间的字符串列表。\n",
    "\n",
    "string.ascii_letters 的值是 'abcdefghijklmnopqrstuvwxyzABCDEFGHIJKLMNOPQRSTUVWXYZ'\n",
    "\n",
    "string.punctuation 的值是 '!\"#$%&\\'()*+,-./:;<=>?@[\\\\]^_{|}~'`\n",
    "\n",
    "`+`其实是“连接”在一起，得到的是一个字符串序列。\n",
    "\n",
    "**注释：**\n",
    "这样的序列通常用于生成随机字符串或者在某些文本处理任务中使用，比如在密码生成、文本处理、数据清洗等方面都有一定的应用场景。"
   ]
  },
  {
   "cell_type": "markdown",
   "metadata": {},
   "source": [
    "`k`值规定了“长度”，在整个字符串中，随机选取`k`个字符，而后形成新的随机字符串（`S`，这是我命名的方便后文阐述）。\n",
    "\n",
    "`'.join(''.join())` 在整个表达式处理完成后，形成的这个（`S`），随后交给`join`处理，具体如何处理：\n",
    "\n",
    "有关`join()`方法详见：https://docs.python.org/3/library/stdtypes.html#str.join\n",
    "\n",
    "通常用于将字符串列表中的元素拼接成一个单独的字符串\n",
    "\n",
    "`separator.join(iterable)` separator 是连接字符串，iterable 是一个可迭代对象，比如列表、元组\n",
    "\n"
   ]
  },
  {
   "cell_type": "code",
   "execution_count": 5,
   "metadata": {},
   "outputs": [
    {
     "name": "stdout",
     "output_type": "stream",
     "text": [
      "Hello world Python is awesome\n"
     ]
    }
   ],
   "source": [
    "words = [\"Hello\", \"world\", \"Python\", \"is\", \"awesome\"]\n",
    "\n",
    "# 使用空格连接列表中的元素\n",
    "sentence = ' '.join(words)\n",
    "\n",
    "print(sentence)  # 输出: Hello world Python is awesome\n"
   ]
  },
  {
   "cell_type": "code",
   "execution_count": null,
   "metadata": {},
   "outputs": [],
   "source": [
    "# 定义一个包含多个列表的列表\n",
    "matrix = [\n",
    "    ['1', '2', '3'],\n",
    "    ['4', '5', '6'],\n",
    "    ['7', '8', '9']\n",
    "]\n",
    "\n",
    "# 将每个子列表中的元素连接成一个字符串，然后将这些字符串用换行符连接起来\n",
    "result = '\\n'.join(' '.join(row) for row in matrix)\n",
    "\n",
    "print(result)\n",
    "\n"
   ]
  },
  {
   "cell_type": "markdown",
   "metadata": {},
   "source": [
    "上述代码片段给出了 `join()`的嵌套使用方法，回忆本节提到的打字检测程序，其采用了嵌套的`join()`来生成随机单词。"
   ]
  },
  {
   "cell_type": "markdown",
   "metadata": {},
   "source": [
    "再看\n",
    "`typed_words = typed.split()` 中的`.split()`方法，这也是一个字符串操作的方法，按要求进行分割"
   ]
  },
  {
   "cell_type": "code",
   "execution_count": 6,
   "metadata": {},
   "outputs": [
    {
     "name": "stdout",
     "output_type": "stream",
     "text": [
      "['Hello', 'world', 'Python']\n",
      "['apple', 'banana', 'orange']\n",
      "['apple', 'banana', 'orange,grape']\n"
     ]
    }
   ],
   "source": [
    "# 使用空格分割字符串\n",
    "text = \"Hello world Python\"\n",
    "words = text.split()\n",
    "print(words)  # 输出: ['Hello', 'world', 'Python']\n",
    "\n",
    "# 使用逗号分割字符串\n",
    "csv_data = \"apple,banana,orange\"\n",
    "items = csv_data.split(',')\n",
    "print(items)  # 输出: ['apple', 'banana', 'orange']\n",
    "\n",
    "# 指定最多分割两次\n",
    "text = \"apple,banana,orange,grape\"\n",
    "items = text.split(',', 2)\n",
    "print(items)  # 输出: ['apple', 'banana', 'orange,grape']\n"
   ]
  },
  {
   "cell_type": "code",
   "execution_count": null,
   "metadata": {},
   "outputs": [],
   "source": [
    "def calculate_accuracy(typed, source):\n",
    "    \"\"\"\n",
    "    计算打字准确率。\n",
    "\n",
    "    参数:\n",
    "      typed: 输入的文本\n",
    "      source: 原始文本\n",
    "\n",
    "    返回:\n",
    "      准确率百分比\n",
    "    \"\"\"\n",
    "    typed_words = typed.split()\n",
    "    source_words = source.split()\n",
    "    correct_words = sum(1 for tw, sw in zip(typed_words, source_words) if tw.lower() == sw.lower())\n",
    "    return round(correct_words / len(source_words) * 100, 2)\n"
   ]
  },
  {
   "cell_type": "markdown",
   "metadata": {},
   "source": [
    "`zip(typed_words, source_words)` 代码解释： 将`typed_words`和`source_words`这两个列表打包成一个元组的列表。\n",
    "\n",
    "\n",
    "`zip()`函数为内置函数，简单说就是可以合并迭代器。**注意：如果传递给 zip() 函数的可迭代对象的长度不一致，zip() 函数会以最短的可迭代对象的长度为准进行迭代。这意味着，如果其中一个可迭代对象比其他对象短，则 zip() 函数的迭代将在较短的对象结束后停止。**"
   ]
  },
  {
   "cell_type": "code",
   "execution_count": 7,
   "metadata": {},
   "outputs": [
    {
     "name": "stdout",
     "output_type": "stream",
     "text": [
      "('Alice', 85)\n",
      "('Bob', 90)\n",
      "('Charlie', 88)\n"
     ]
    }
   ],
   "source": [
    "# 定义两个列表\n",
    "names = ['Alice', 'Bob', 'Charlie']\n",
    "scores = [85, 90, 88]\n",
    "\n",
    "# 使用 zip() 函数将两个列表合并\n",
    "combined_data = zip(names, scores)\n",
    "\n",
    "# 遍历合并后的结果\n",
    "for item in combined_data:\n",
    "    print(item)\n"
   ]
  },
  {
   "cell_type": "code",
   "execution_count": null,
   "metadata": {},
   "outputs": [],
   "source": [
    "# try:\n",
    "#         paragraph = pick_paragraph_from_file(\"paragraphs.txt\")\n",
    "#     except FileNotFoundError:\n",
    "#         print(\"段落文件未找到。\")\n",
    "#         return"
   ]
  },
  {
   "cell_type": "markdown",
   "metadata": {},
   "source": [
    "上述这段使用了 `try/except` 语句来处理可能发生的 `FileNotFoundError` 异常。在 `try` 块中，尝试从文件中读取段落，如果文件不存在，则打印错误信息并返回。\n",
    "\n"
   ]
  }
 ],
 "metadata": {
  "kernelspec": {
   "display_name": "Python 3",
   "language": "python",
   "name": "python3"
  },
  "language_info": {
   "codemirror_mode": {
    "name": "ipython",
    "version": 3
   },
   "file_extension": ".py",
   "mimetype": "text/x-python",
   "name": "python",
   "nbconvert_exporter": "python",
   "pygments_lexer": "ipython3",
   "version": "3.11.7"
  }
 },
 "nbformat": 4,
 "nbformat_minor": 2
}
