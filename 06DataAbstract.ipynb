{
 "cells": [
  {
   "cell_type": "markdown",
   "metadata": {},
   "source": [
    "**感悟：学习SICP我觉得更多的学的其实是思维，就是SICP会提出一些很重要的概念，会讲给你一些你应该知道的事情。**\n",
    "\n",
    "在本节可以感受到，**计算机就是应用抽象！**\n",
    "\n",
    "## 1. 数据抽象（Data Abstraction）\n",
    "\n",
    "【【完结🎉】UCB CS 61A: Computer Programs, Fall 2020】 【精准空降到 18:20】 https://www.bilibili.com/video/BV1s3411G7yM/?p=27&share_source=copy_web&vd_source=59d47afd43812c161ca8ef67a1dfea4d&t=1100\n",
    "\n",
    "这一讲John老师以有理数的例子讲解了什么是数据抽象，这非常具象。以下借助ChatGPT，我具体聊下数据抽象。\n",
    "\n"
   ]
  },
  {
   "cell_type": "code",
   "execution_count": 2,
   "metadata": {},
   "outputs": [
    {
     "name": "stdout",
     "output_type": "stream",
     "text": [
      "Sum: 7/6\n",
      "Product: 2/6\n"
     ]
    }
   ],
   "source": [
    "class RationalNumber:\n",
    "    def __init__(self, numerator, denominator):\n",
    "        self.numerator = numerator\n",
    "        self.denominator = denominator\n",
    "\n",
    "    def __str__(self):\n",
    "        return f\"{self.numerator}/{self.denominator}\"\n",
    "\n",
    "    def add(self, other):\n",
    "        # 计算两个有理数的加法\n",
    "        result_numerator = self.numerator * other.denominator + other.numerator * self.denominator\n",
    "        result_denominator = self.denominator * other.denominator\n",
    "        return RationalNumber(result_numerator, result_denominator)\n",
    "\n",
    "    def multiply(self, other):\n",
    "        # 计算两个有理数的乘法\n",
    "        result_numerator = self.numerator * other.numerator\n",
    "        result_denominator = self.denominator * other.denominator\n",
    "        return RationalNumber(result_numerator, result_denominator)\n",
    "\n",
    "# 创建两个有理数对象\n",
    "r1 = RationalNumber(1, 2)\n",
    "r2 = RationalNumber(2, 3)\n",
    "\n",
    "# 执行加法和乘法操作\n",
    "sum_result = r1.add(r2)\n",
    "product_result = r1.multiply(r2)\n",
    "\n",
    "# 输出结果\n",
    "print(\"Sum:\", sum_result)\n",
    "print(\"Product:\", product_result)\n"
   ]
  },
  {
   "cell_type": "markdown",
   "metadata": {},
   "source": [
    "另，**上述程序的缺点是不能够约分！**"
   ]
  },
  {
   "cell_type": "markdown",
   "metadata": {},
   "source": [
    "## 2. 抽象屏障（Abstraction Barrier）\n",
    "\n",
    "layers of abstraction 程序中有不同的抽象层，\n",
    "\n",
    "抽象屏障如何实现？通过定义接口，将系统分为不同的层级，而这种分层的程度，也是一级又一级的抽象。\n",
    "\n",
    "下面通过具体的例子来应用上述概念：\n"
   ]
  },
  {
   "cell_type": "markdown",
   "metadata": {},
   "source": [
    "下述动态示意，更有利于理解 Barrier ：\n",
    "\n",
    "<iframe width=\"800\" height=\"500\" frameborder=\"0\" src=\"https://pythontutor.com/iframe-embed.html#code=%23%20%E5%AE%9A%E4%B9%89%E5%9C%86%E5%BD%A2%E7%B1%BB%0Aclass%20Circle%3A%0A%20%20%20%20def%20__init__%28self,%20x,%20y,%20radius%29%3A%0A%20%20%20%20%20%20%20%20self.x%20%3D%20x%0A%20%20%20%20%20%20%20%20self.y%20%3D%20y%0A%20%20%20%20%20%20%20%20self.radius%20%3D%20radius%0A%0A%20%20%20%20def%20draw%28self%29%3A%0A%20%20%20%20%20%20%20%20print%28f%22Drawing%20a%20circle%20at%20%28%7Bself.x%7D,%20%7Bself.y%7D%29%20with%20radius%20%7Bself.radius%7D%22%29%0A%0A%23%20%E5%AE%9A%E4%B9%89%E7%9F%A9%E5%BD%A2%E7%B1%BB%0Aclass%20Rectangle%3A%0A%20%20%20%20def%20__init__%28self,%20x,%20y,%20width,%20height%29%3A%0A%20%20%20%20%20%20%20%20self.x%20%3D%20x%0A%20%20%20%20%20%20%20%20self.y%20%3D%20y%0A%20%20%20%20%20%20%20%20self.width%20%3D%20width%0A%20%20%20%20%20%20%20%20self.height%20%3D%20height%0A%0A%20%20%20%20def%20draw%28self%29%3A%0A%20%20%20%20%20%20%20%20print%28f%22Drawing%20a%20rectangle%20at%20%28%7Bself.x%7D,%20%7Bself.y%7D%29%20with%20width%20%7Bself.width%7D%20and%20height%20%7Bself.height%7D%22%29%0A%0A%23%20%E5%AE%9A%E4%B9%89%E7%BB%98%E5%9B%BE%E5%BC%95%E6%93%8E%E7%B1%BB%0Aclass%20DrawingEngine%3A%0A%20%20%20%20def%20draw_shape%28self,%20shape%29%3A%0A%20%20%20%20%20%20%20%20shape.draw%28%29%0A%0A%23%20%E4%BD%BF%E7%94%A8%E7%A4%BA%E4%BE%8B%0Aif%20__name__%20%3D%3D%20%22__main__%22%3A%0A%20%20%20%20%23%20%E5%88%9B%E5%BB%BA%E7%BB%98%E5%9B%BE%E5%BC%95%E6%93%8E%0A%20%20%20%20engine%20%3D%20DrawingEngine%28%29%0A%0A%20%20%20%20%23%20%E5%88%9B%E5%BB%BA%E5%9C%86%E5%BD%A2%E5%92%8C%E7%9F%A9%E5%BD%A2%E5%AF%B9%E8%B1%A1%0A%20%20%20%20circle%20%3D%20Circle%280,%200,%205%29%0A%20%20%20%20rectangle%20%3D%20Rectangle%282,%202,%204,%203%29%0A%0A%20%20%20%20%23%20%E4%BD%BF%E7%94%A8%E7%BB%98%E5%9B%BE%E5%BC%95%E6%93%8E%E7%BB%98%E5%88%B6%E5%9B%BE%E5%BD%A2%0A%20%20%20%20engine.draw_shape%28circle%29%0A%20%20%20%20engine.draw_shape%28rectangle%29%0A&codeDivHeight=400&codeDivWidth=350&cumulative=true&curInstr=0&origin=composingprograms.js&py=3&rawInputLstJSON=%5B%5D\"> </iframe>\n",
    "\n",
    "按照oop的思路，实现和客户端分离，即为：`barrierimplement` 和 `barrierclient`组成。\n",
    "\n"
   ]
  }
 ],
 "metadata": {
  "kernelspec": {
   "display_name": "Python 3",
   "language": "python",
   "name": "python3"
  },
  "language_info": {
   "codemirror_mode": {
    "name": "ipython",
    "version": 3
   },
   "file_extension": ".py",
   "mimetype": "text/x-python",
   "name": "python",
   "nbconvert_exporter": "python",
   "pygments_lexer": "ipython3",
   "version": "3.11.7"
  }
 },
 "nbformat": 4,
 "nbformat_minor": 2
}
