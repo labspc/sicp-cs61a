{
 "cells": [
  {
   "cell_type": "markdown",
   "metadata": {},
   "source": [
    "## 1. 表达式赋值\n",
    "\n",
    "```\n",
    "f=min #函数\n",
    "f=max #函数\n",
    "g,h=min,max \n",
    "# max=g # ？？？\n",
    "max(f(2,g(h(1,5),3)),4)\n",
    "```\n",
    "\n",
    "<iframe width=\"800\" height=\"500\" frameborder=\"0\" src=\"https://pythontutor.com/iframe-embed.html#code=f%3Dmin%20%23%E5%87%BD%E6%95%B0%0Af%3Dmax%20%23%E5%87%BD%E6%95%B0%0Ag,h%3Dmin,max%20%0A%0A%23%20max%3Dg%20%23%20%EF%BC%9F%EF%BC%9F%EF%BC%9F%0Amax%28f%282,g%28h%281,5%29,3%29%29,4%29%0A&codeDivHeight=400&codeDivWidth=350&cumulative=true&curInstr=4&origin=composingprograms.js&py=3&rawInputLstJSON=%5B%5D\"> </iframe>\n",
    "\n",
    "本地输出测试：\n",
    "![](https://img.imotao.com/i/2024/02/17/65d06ae07672e.png)"
   ]
  },
  {
   "cell_type": "markdown",
   "metadata": {},
   "source": [
    "## 2. 定义函数\n",
    "\n",
    "这门课是讲抽象的，刚刚的 赋值操作 assignment 就是一个抽象手段，意味着：值和名字相绑定。\n",
    "\n",
    "func 函数是更高级的抽象手段\n",
    "\n",
    "![](https://img.imotao.com/i/2024/02/17/65d0ac4525baf.png)\n",
    "\n",
    "关于函数签名，我在看《程序设计导论 Python语言实践》时，深刻学习了函数签名的重要性。\n",
    "\n",
    "![](https://img.imotao.com/i/2024/02/17/65d0adc44cb94.png)\n",
    "\n",
    "具体的原因就是，函数签名包含了我们需要的一切信息。\n",
    "\n"
   ]
  }
 ],
 "metadata": {
  "kernelspec": {
   "display_name": "Python 3",
   "language": "python",
   "name": "python3"
  },
  "language_info": {
   "codemirror_mode": {
    "name": "ipython",
    "version": 3
   },
   "file_extension": ".py",
   "mimetype": "text/x-python",
   "name": "python",
   "nbconvert_exporter": "python",
   "pygments_lexer": "ipython3",
   "version": "3.11.7"
  }
 },
 "nbformat": 4,
 "nbformat_minor": 2
}
