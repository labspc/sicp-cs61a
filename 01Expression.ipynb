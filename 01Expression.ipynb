{
 "cells": [
  {
   "cell_type": "markdown",
   "metadata": {},
   "source": [
    "## 1.表达式\n",
    "\n",
    "作为计算机科学家，不是用这些各种各样的式子去表达计算，而是用函数把所有的东西写下来。\n",
    "\n",
    "表达式树：\n",
    "\n",
    "![](https://img.imotao.com/i/2024/02/17/65d013cd800a6.png)\n",
    "\n"
   ]
  },
  {
   "cell_type": "code",
   "execution_count": 1,
   "metadata": {},
   "outputs": [
    {
     "name": "stdout",
     "output_type": "stream",
     "text": [
      "3.141592653589793\n"
     ]
    }
   ],
   "source": [
    "from math import pi\n",
    "print(pi)"
   ]
  },
  {
   "cell_type": "code",
   "execution_count": 7,
   "metadata": {},
   "outputs": [
    {
     "name": "stdout",
     "output_type": "stream",
     "text": [
      "223.05307840487532\n",
      "1.0002380197528042\n"
     ]
    }
   ],
   "source": [
    "\n",
    "st=pi*71\n",
    "print(st)\n",
    "nd=st/223\n",
    "print(nd)"
   ]
  },
  {
   "cell_type": "markdown",
   "metadata": {},
   "source": [
    "## 2. Env图\n",
    "\n",
    "![](https://img.imotao.com/i/2024/02/17/65d016531e5d0.png)\n",
    "\n",
    "<iframe width=\"800\" height=\"500\" frameborder=\"0\" src=\"https://pythontutor.com/iframe-embed.html#code=from%20math%20import%20pi%0Atau%3D2*pi%0A&codeDivHeight=400&codeDivWidth=350&cumulative=true&curInstr=0&origin=composingprograms.js&py=3&rawInputLstJSON=%5B%5D\"> </iframe>\n",
    "\n"
   ]
  }
 ],
 "metadata": {
  "kernelspec": {
   "display_name": "Python 3",
   "language": "python",
   "name": "python3"
  },
  "language_info": {
   "codemirror_mode": {
    "name": "ipython",
    "version": 3
   },
   "file_extension": ".py",
   "mimetype": "text/x-python",
   "name": "python",
   "nbconvert_exporter": "python",
   "pygments_lexer": "ipython3",
   "version": "3.11.7"
  }
 },
 "nbformat": 4,
 "nbformat_minor": 2
}
