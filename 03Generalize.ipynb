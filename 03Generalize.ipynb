{
 "cells": [
  {
   "cell_type": "markdown",
   "metadata": {},
   "source": [
    "## 1. 纯函数\n",
    "\n",
    "**Generalization 泛化**\n",
    "\n",
    "side effects 副作用 \n",
    "\n",
    "`abs()` 和 `print()` 通过这两个函数的对比，知道两个概念：\n",
    "\n",
    "![](https://img.imotao.com/i/2024/02/17/65d0b190b0395.png)\n",
    "\n",
    "通过图示，知道纯函数是封闭的管道，非纯函数是非封闭管道，这样带来的是 side effects 的出现。（时好时坏）\n",
    "\n"
   ]
  },
  {
   "cell_type": "markdown",
   "metadata": {},
   "source": [
    "## 2. 用户自定义函数的生命周期\n",
    "\n",
    "![](https://img.imotao.com/i/2024/02/18/65d155d0540f2.png)\n",
    "\n"
   ]
  },
  {
   "cell_type": "markdown",
   "metadata": {},
   "source": [
    "## 3. 设计函数\n",
    "\n",
    "理解：在纷繁的复杂中，找到通用的模式，就是找到共同的结构，然后来实现。\n",
    "\n",
    "![](https://img.imotao.com/i/2024/02/18/65d159e4e2130.png)\n",
    "\n"
   ]
  }
 ],
 "metadata": {
  "kernelspec": {
   "display_name": "Python 3",
   "language": "python",
   "name": "python3"
  },
  "language_info": {
   "name": "python",
   "version": "3.11.7"
  }
 },
 "nbformat": 4,
 "nbformat_minor": 2
}
